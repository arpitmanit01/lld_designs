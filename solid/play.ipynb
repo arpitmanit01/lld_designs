{
 "cells": [
  {
   "cell_type": "code",
   "execution_count": 1,
   "id": "cbc653a6-54f3-4cde-bd31-b1a33c6af0ef",
   "metadata": {},
   "outputs": [],
   "source": [
    "import math"
   ]
  },
  {
   "cell_type": "code",
   "execution_count": 3,
   "id": "e5ca2291-2d47-4ef2-9efe-9e0746a4d93e",
   "metadata": {},
   "outputs": [],
   "source": [
    "class Shape:\n",
    "    def __init__(self,shape_type,**kwargs):\n",
    "        self.shape_type = shape_type\n",
    "        if shape_type=='circle':\n",
    "            self.radius=kwargs['radius']\n",
    "        elif shape_type=='rectangle':\n",
    "            self.height=kwargs['height']\n",
    "            self.width=kwargs['width']\n",
    "    def calculate_area(self):\n",
    "        if self.shape_type == 'circle':\n",
    "            return self.radius*self.radius*math.pi\n",
    "        elif self.shape_type == 'rectangle':\n",
    "            return self.width*self.height\n",
    "        "
   ]
  },
  {
   "cell_type": "code",
   "execution_count": 4,
   "id": "126e63a6-2173-42f3-98a4-b9e7dc47abd5",
   "metadata": {},
   "outputs": [],
   "source": [
    "rectangle = Shape(\"rectangle\",height=4,width=5)"
   ]
  },
  {
   "cell_type": "code",
   "execution_count": 5,
   "id": "32750e01-50dc-4ef1-bbc4-d0ea65cd5b34",
   "metadata": {},
   "outputs": [
    {
     "data": {
      "text/plain": [
       "20"
      ]
     },
     "execution_count": 5,
     "metadata": {},
     "output_type": "execute_result"
    }
   ],
   "source": [
    "rectangle.calculate_area()"
   ]
  },
  {
   "cell_type": "code",
   "execution_count": 6,
   "id": "893a8f96-707a-43be-bbf0-3325b6cab9a1",
   "metadata": {},
   "outputs": [],
   "source": [
    "circ = Shape(\"circle\",radius=3)"
   ]
  },
  {
   "cell_type": "code",
   "execution_count": 7,
   "id": "7f8adae3-95e7-49e1-8ab9-d960d8b95f6f",
   "metadata": {},
   "outputs": [
    {
     "data": {
      "text/plain": [
       "28.274333882308138"
      ]
     },
     "execution_count": 7,
     "metadata": {},
     "output_type": "execute_result"
    }
   ],
   "source": [
    "circ.calculate_area()"
   ]
  },
  {
   "cell_type": "code",
   "execution_count": 8,
   "id": "c97875cd-3a1e-4f92-8a17-ef27aa3ecd28",
   "metadata": {},
   "outputs": [],
   "source": [
    "# Ab issue ye ki agar isme koi nayi class (jaise Square) daalna ho toh code change karna padega.\n",
    "# matlab class is NOT Closed for Modification "
   ]
  },
  {
   "cell_type": "code",
   "execution_count": 9,
   "id": "5f7d530d-b590-45d5-8b3b-11d373425527",
   "metadata": {},
   "outputs": [],
   "source": [
    "from abc import ABC,abstractmethod"
   ]
  },
  {
   "cell_type": "code",
   "execution_count": 22,
   "id": "2491bd7e-2b47-426b-83e0-eebd9152df90",
   "metadata": {},
   "outputs": [],
   "source": [
    "class Shape(ABC):\n",
    "    def __init__(self,shape):\n",
    "        self.shape=shape\n",
    "\n",
    "    @abstractmethod\n",
    "    def calculate_area(self):\n",
    "        pass"
   ]
  },
  {
   "cell_type": "code",
   "execution_count": 31,
   "id": "27f4586f-8c88-4b89-b91a-2e71a59d420d",
   "metadata": {},
   "outputs": [],
   "source": [
    "class Circle(Shape):\n",
    "    def __init__(self,radius):\n",
    "        super().__init__(\"circle\")\n",
    "        self.radius = radius\n",
    "\n",
    "    def calculate_area(self):\n",
    "        return self.radius*self.radius*math.pi"
   ]
  },
  {
   "cell_type": "code",
   "execution_count": 32,
   "id": "92f08b51-24b1-41ce-8022-b5f071d19a8e",
   "metadata": {},
   "outputs": [],
   "source": [
    "class Rectangle(Shape):\n",
    "    def __init__(self,height,width):\n",
    "        super().__init__(\"rectangle\")\n",
    "        self.height = height\n",
    "        self.width = width\n",
    "\n",
    "    def calculate_area(self):\n",
    "        return self.height*self.width"
   ]
  },
  {
   "cell_type": "code",
   "execution_count": 33,
   "id": "7ac0ab37-663f-4ede-993c-35dcf590c7e8",
   "metadata": {},
   "outputs": [],
   "source": [
    "class Square(Shape):\n",
    "    def __init__(self,side):\n",
    "        super().__init__(\"square\")\n",
    "        self.side=side\n",
    "\n",
    "    def calculate_area(self):\n",
    "        return self.side*self.side"
   ]
  },
  {
   "cell_type": "code",
   "execution_count": 34,
   "id": "621f312d-ecce-41f0-ab5c-001793639730",
   "metadata": {},
   "outputs": [],
   "source": [
    "obj = Circle(radius=4)"
   ]
  },
  {
   "cell_type": "code",
   "execution_count": 35,
   "id": "b9b0b6ec-d1d0-4a60-85ff-7b03841a54ff",
   "metadata": {},
   "outputs": [
    {
     "data": {
      "text/plain": [
       "'circle'"
      ]
     },
     "execution_count": 35,
     "metadata": {},
     "output_type": "execute_result"
    }
   ],
   "source": [
    "obj.shape"
   ]
  },
  {
   "cell_type": "code",
   "execution_count": 36,
   "id": "e3303ce2-281e-4983-967e-b81fbc868b0e",
   "metadata": {},
   "outputs": [
    {
     "data": {
      "text/plain": [
       "50.26548245743669"
      ]
     },
     "execution_count": 36,
     "metadata": {},
     "output_type": "execute_result"
    }
   ],
   "source": [
    "obj.calculate_area()"
   ]
  },
  {
   "cell_type": "code",
   "execution_count": null,
   "id": "ed0f9543-241a-43f4-afe9-134c1d41f0dd",
   "metadata": {},
   "outputs": [],
   "source": []
  },
  {
   "cell_type": "code",
   "execution_count": 37,
   "id": "fa85a344-2d43-4f3b-8601-1396a48e5408",
   "metadata": {},
   "outputs": [],
   "source": [
    "# Liskov Substitution Principle"
   ]
  },
  {
   "cell_type": "code",
   "execution_count": 49,
   "id": "286464b1-ee1c-4039-be76-82c845e02015",
   "metadata": {},
   "outputs": [],
   "source": [
    "class Square(Rectangle):\n",
    "    def __init__(self,side):\n",
    "        super().__init__(side,side)\n",
    "\n",
    "    def __setattr__(self,key,val):\n",
    "        if key in ('heigt','width'):\n",
    "            self.__dict__['height']=val\n",
    "            self.__dict__['width']=val\n",
    "\n",
    "    def calculate_area(self):\n",
    "        return super().calculate_area()"
   ]
  },
  {
   "cell_type": "code",
   "execution_count": 50,
   "id": "b6ee43df-4af5-4e80-9b9b-7eb0e19f2776",
   "metadata": {},
   "outputs": [],
   "source": [
    "obj = Square(side = 10)"
   ]
  },
  {
   "cell_type": "code",
   "execution_count": 51,
   "id": "2761d491-d6b0-4c89-b222-6be794139cae",
   "metadata": {},
   "outputs": [
    {
     "data": {
      "text/plain": [
       "100"
      ]
     },
     "execution_count": 51,
     "metadata": {},
     "output_type": "execute_result"
    }
   ],
   "source": [
    "obj.calculate_area()"
   ]
  },
  {
   "cell_type": "code",
   "execution_count": 52,
   "id": "611cb904-ea78-4b03-90ea-2e1f69c01f65",
   "metadata": {},
   "outputs": [
    {
     "data": {
      "text/plain": [
       "10"
      ]
     },
     "execution_count": 52,
     "metadata": {},
     "output_type": "execute_result"
    }
   ],
   "source": [
    "obj.width"
   ]
  },
  {
   "cell_type": "code",
   "execution_count": 53,
   "id": "3d2e2baa-a9bb-4f9b-8b99-12ec871882af",
   "metadata": {},
   "outputs": [
    {
     "data": {
      "text/plain": [
       "{'height': 10, 'width': 10}"
      ]
     },
     "execution_count": 53,
     "metadata": {},
     "output_type": "execute_result"
    }
   ],
   "source": [
    "obj.__dict__"
   ]
  },
  {
   "cell_type": "code",
   "execution_count": 54,
   "id": "9c7dfe01-92c5-415a-88b4-3da0b21c6391",
   "metadata": {},
   "outputs": [
    {
     "data": {
      "text/plain": [
       "mappingproxy({'__module__': '__main__',\n",
       "              '__init__': <function __main__.Square.__init__(self, side)>,\n",
       "              '__setattr__': <function __main__.Square.__setattr__(self, key, val)>,\n",
       "              'calculate_area': <function __main__.Square.calculate_area(self)>,\n",
       "              '__doc__': None,\n",
       "              '__abstractmethods__': frozenset(),\n",
       "              '_abc_impl': <_abc._abc_data at 0x106944f40>})"
      ]
     },
     "execution_count": 54,
     "metadata": {},
     "output_type": "execute_result"
    }
   ],
   "source": [
    "Square.__dict__"
   ]
  },
  {
   "cell_type": "code",
   "execution_count": 55,
   "id": "7d6ed1d1-e37d-4cca-b820-cb4a045d5eb5",
   "metadata": {},
   "outputs": [],
   "source": [
    "obj.width=2"
   ]
  },
  {
   "cell_type": "code",
   "execution_count": 56,
   "id": "638ebdc0-40a0-47ed-8b93-be0d1812f298",
   "metadata": {},
   "outputs": [
    {
     "data": {
      "text/plain": [
       "4"
      ]
     },
     "execution_count": 56,
     "metadata": {},
     "output_type": "execute_result"
    }
   ],
   "source": [
    "obj.calculate_area()"
   ]
  },
  {
   "cell_type": "code",
   "execution_count": 57,
   "id": "a8c9787f-7cff-40d3-932f-c3c2571fe70e",
   "metadata": {},
   "outputs": [
    {
     "data": {
      "text/plain": [
       "{'height': 2, 'width': 2}"
      ]
     },
     "execution_count": 57,
     "metadata": {},
     "output_type": "execute_result"
    }
   ],
   "source": [
    "vars(obj)"
   ]
  },
  {
   "cell_type": "code",
   "execution_count": 58,
   "id": "14eefbe9-a9ec-46b6-9f87-6e522795c52d",
   "metadata": {},
   "outputs": [
    {
     "data": {
      "text/plain": [
       "{'height': 2, 'width': 2}"
      ]
     },
     "execution_count": 58,
     "metadata": {},
     "output_type": "execute_result"
    }
   ],
   "source": [
    "obj.__dict__"
   ]
  },
  {
   "cell_type": "code",
   "execution_count": 59,
   "id": "f2ef67c6-0ce4-4b20-8f82-7adecca899aa",
   "metadata": {},
   "outputs": [
    {
     "data": {
      "text/plain": [
       "True"
      ]
     },
     "execution_count": 59,
     "metadata": {},
     "output_type": "execute_result"
    }
   ],
   "source": [
    "obj.__dict__ is vars(obj)"
   ]
  },
  {
   "cell_type": "code",
   "execution_count": 62,
   "id": "d1e4064c-bcdd-4588-a5ac-d36f90ba5134",
   "metadata": {},
   "outputs": [
    {
     "data": {
      "text/plain": [
       "False"
      ]
     },
     "execution_count": 62,
     "metadata": {},
     "output_type": "execute_result"
    }
   ],
   "source": [
    "vars(Square) is Square.__dict__"
   ]
  },
  {
   "cell_type": "code",
   "execution_count": null,
   "id": "6e6a692c-79bb-4582-bade-75867fab2c3b",
   "metadata": {},
   "outputs": [],
   "source": []
  },
  {
   "cell_type": "code",
   "execution_count": null,
   "id": "a531648e-0834-445f-809b-eafd8a011b26",
   "metadata": {},
   "outputs": [],
   "source": []
  },
  {
   "cell_type": "code",
   "execution_count": 63,
   "id": "00b1736b-1cea-4d2f-9459-cb80af23cbf7",
   "metadata": {},
   "outputs": [
    {
     "name": "stdout",
     "output_type": "stream",
     "text": [
      "{}\n",
      "{}\n"
     ]
    }
   ],
   "source": [
    "class MyClass:\n",
    "    def __getattr__(self, name):\n",
    "        if name == 'z':\n",
    "            return 30\n",
    "        else:\n",
    "            raise AttributeError(f\"'{self.__class__.__name__}' object has no attribute '{name}'\")\n",
    "\n",
    "obj = MyClass()\n",
    "print(vars(obj))    # Output: {'z': 30}\n",
    "print(obj.__dict__) # Output: {}\n"
   ]
  },
  {
   "cell_type": "code",
   "execution_count": null,
   "id": "7f3fc75a-613b-409a-a980-e78cba29953e",
   "metadata": {},
   "outputs": [],
   "source": []
  },
  {
   "cell_type": "code",
   "execution_count": null,
   "id": "b1f6cf9e-c6e0-4e38-bc48-9e9b2c24b30f",
   "metadata": {},
   "outputs": [],
   "source": []
  },
  {
   "cell_type": "code",
   "execution_count": null,
   "id": "83865bdb-9a8e-410e-bdd5-4edb511be521",
   "metadata": {},
   "outputs": [],
   "source": []
  },
  {
   "cell_type": "code",
   "execution_count": null,
   "id": "1edc966a-3678-4b5f-b2ec-370d15d74f26",
   "metadata": {},
   "outputs": [],
   "source": []
  },
  {
   "cell_type": "code",
   "execution_count": null,
   "id": "ce1a8e9d-e425-481a-a5e2-6144ad1e2c90",
   "metadata": {},
   "outputs": [],
   "source": []
  },
  {
   "cell_type": "code",
   "execution_count": null,
   "id": "63930bf4-a336-458c-9b47-bc8711f33b93",
   "metadata": {},
   "outputs": [],
   "source": []
  },
  {
   "cell_type": "code",
   "execution_count": null,
   "id": "2a7d1b0e-8b6f-4464-a9cf-f8c0620d803b",
   "metadata": {},
   "outputs": [],
   "source": []
  },
  {
   "cell_type": "code",
   "execution_count": null,
   "id": "a71baf65-41cc-48e7-ae1b-6561eafacdfe",
   "metadata": {},
   "outputs": [],
   "source": []
  },
  {
   "cell_type": "code",
   "execution_count": null,
   "id": "4ce4b3cc-7741-40c1-96ee-092fd46eb4e0",
   "metadata": {},
   "outputs": [],
   "source": []
  },
  {
   "cell_type": "code",
   "execution_count": null,
   "id": "af15c129-edca-4120-bf2f-2afa1e97436c",
   "metadata": {},
   "outputs": [],
   "source": []
  },
  {
   "cell_type": "code",
   "execution_count": null,
   "id": "b6b53c5b-24e9-4b09-ae18-edb9e1442e6e",
   "metadata": {},
   "outputs": [],
   "source": []
  },
  {
   "cell_type": "code",
   "execution_count": null,
   "id": "e1ce589d-9c99-4346-a9f0-f757f1870b33",
   "metadata": {},
   "outputs": [],
   "source": []
  },
  {
   "cell_type": "code",
   "execution_count": null,
   "id": "1ef6aa69-9595-41d8-9e51-b2880cfc7886",
   "metadata": {},
   "outputs": [],
   "source": []
  },
  {
   "cell_type": "code",
   "execution_count": null,
   "id": "1d0e4fce-ac54-4b1a-97ec-356a22bab058",
   "metadata": {},
   "outputs": [],
   "source": []
  },
  {
   "cell_type": "code",
   "execution_count": null,
   "id": "aa10de17-290d-429f-b9b4-4979f6011886",
   "metadata": {},
   "outputs": [],
   "source": []
  },
  {
   "cell_type": "code",
   "execution_count": null,
   "id": "170bce8f-2acc-4f53-ba52-0d4ba2477583",
   "metadata": {},
   "outputs": [],
   "source": []
  },
  {
   "cell_type": "code",
   "execution_count": null,
   "id": "8f1b308d-8d7e-4407-bb8d-0d3d669604cd",
   "metadata": {},
   "outputs": [],
   "source": []
  },
  {
   "cell_type": "code",
   "execution_count": null,
   "id": "f9c40829-aba4-4b8e-b3cf-79eaa3efbcd9",
   "metadata": {},
   "outputs": [],
   "source": []
  },
  {
   "cell_type": "code",
   "execution_count": null,
   "id": "589f3fbe-f894-451c-9cd0-eb75fbbeb1e5",
   "metadata": {},
   "outputs": [],
   "source": []
  },
  {
   "cell_type": "code",
   "execution_count": null,
   "id": "818009ed-2c49-45e4-8260-db1bc049b6bc",
   "metadata": {},
   "outputs": [],
   "source": []
  },
  {
   "cell_type": "code",
   "execution_count": null,
   "id": "ccfa790f-d3d2-4428-8083-26023e11afb3",
   "metadata": {},
   "outputs": [],
   "source": []
  },
  {
   "cell_type": "code",
   "execution_count": null,
   "id": "fa1ea27f-9ace-468d-a527-4d59368c4013",
   "metadata": {},
   "outputs": [],
   "source": []
  },
  {
   "cell_type": "code",
   "execution_count": null,
   "id": "21470087-c3cb-46a8-a085-6a95b544e9b3",
   "metadata": {},
   "outputs": [],
   "source": []
  },
  {
   "cell_type": "code",
   "execution_count": null,
   "id": "a734c0c4-c3a8-4c4a-b69f-5fd795f34ada",
   "metadata": {},
   "outputs": [],
   "source": []
  },
  {
   "cell_type": "code",
   "execution_count": null,
   "id": "b045bd03-2d48-4577-b693-c9ef2cf78763",
   "metadata": {},
   "outputs": [],
   "source": []
  },
  {
   "cell_type": "code",
   "execution_count": null,
   "id": "ec503813-3c45-43b7-b09a-b8e36d944899",
   "metadata": {},
   "outputs": [],
   "source": []
  },
  {
   "cell_type": "code",
   "execution_count": null,
   "id": "75c7bf7d-3ee9-4184-9890-59e8fa6b1251",
   "metadata": {},
   "outputs": [],
   "source": []
  },
  {
   "cell_type": "code",
   "execution_count": null,
   "id": "b0ecc00b-9c6a-47d4-b0f0-3bb5e8ea62cb",
   "metadata": {},
   "outputs": [],
   "source": []
  },
  {
   "cell_type": "code",
   "execution_count": null,
   "id": "6a819e2a-1a3a-4ace-a9cd-fac1a566cb1f",
   "metadata": {},
   "outputs": [],
   "source": []
  },
  {
   "cell_type": "code",
   "execution_count": null,
   "id": "d514fb31-6201-4c45-948e-87cc925ee3e9",
   "metadata": {},
   "outputs": [],
   "source": []
  },
  {
   "cell_type": "code",
   "execution_count": null,
   "id": "c4ee46e5-1400-49f4-86c4-663e44adf853",
   "metadata": {},
   "outputs": [],
   "source": []
  },
  {
   "cell_type": "code",
   "execution_count": null,
   "id": "6f4d5fcf-4431-4810-875c-b62eed3acfed",
   "metadata": {},
   "outputs": [],
   "source": []
  },
  {
   "cell_type": "code",
   "execution_count": null,
   "id": "214cf6dc-4683-4e56-a728-9a9b0cf25709",
   "metadata": {},
   "outputs": [],
   "source": []
  },
  {
   "cell_type": "code",
   "execution_count": null,
   "id": "802e603a-0604-48b1-830d-17c7bcf43c96",
   "metadata": {},
   "outputs": [],
   "source": []
  },
  {
   "cell_type": "code",
   "execution_count": null,
   "id": "c067eeb4-e27e-4d49-94c8-376206fa430e",
   "metadata": {},
   "outputs": [],
   "source": []
  },
  {
   "cell_type": "code",
   "execution_count": null,
   "id": "424832c2-136a-43c0-b556-262dbd1d6ba3",
   "metadata": {},
   "outputs": [],
   "source": []
  },
  {
   "cell_type": "code",
   "execution_count": null,
   "id": "adc83ad4-2796-4f99-b03b-cfe8657ad1ae",
   "metadata": {},
   "outputs": [],
   "source": []
  },
  {
   "cell_type": "code",
   "execution_count": null,
   "id": "6b0a3230-3ddf-431b-ab2e-78eb49f14b8e",
   "metadata": {},
   "outputs": [],
   "source": []
  },
  {
   "cell_type": "code",
   "execution_count": null,
   "id": "1bace37e-65a8-45b1-9599-cdec3ada9b0e",
   "metadata": {},
   "outputs": [],
   "source": []
  },
  {
   "cell_type": "code",
   "execution_count": null,
   "id": "54a4d51b-18f5-4233-86bc-b2118bc551bf",
   "metadata": {},
   "outputs": [],
   "source": []
  },
  {
   "cell_type": "code",
   "execution_count": null,
   "id": "4b6a6a28-eb27-492e-a81f-5af4945511ff",
   "metadata": {},
   "outputs": [],
   "source": []
  },
  {
   "cell_type": "code",
   "execution_count": null,
   "id": "2b24785e-064b-4086-aaf7-03086492bbd4",
   "metadata": {},
   "outputs": [],
   "source": []
  },
  {
   "cell_type": "code",
   "execution_count": null,
   "id": "f7e6b025-73f4-4892-880f-b6e86ab0b748",
   "metadata": {},
   "outputs": [],
   "source": []
  },
  {
   "cell_type": "code",
   "execution_count": null,
   "id": "018d716e-147e-4e11-83c6-25d1ece034eb",
   "metadata": {},
   "outputs": [],
   "source": []
  },
  {
   "cell_type": "code",
   "execution_count": null,
   "id": "f9b56e2a-4866-4bb4-9281-067f16057203",
   "metadata": {},
   "outputs": [],
   "source": []
  }
 ],
 "metadata": {
  "kernelspec": {
   "display_name": "Python 3 (ipykernel)",
   "language": "python",
   "name": "python3"
  },
  "language_info": {
   "codemirror_mode": {
    "name": "ipython",
    "version": 3
   },
   "file_extension": ".py",
   "mimetype": "text/x-python",
   "name": "python",
   "nbconvert_exporter": "python",
   "pygments_lexer": "ipython3",
   "version": "3.10.5"
  }
 },
 "nbformat": 4,
 "nbformat_minor": 5
}
