{
 "cells": [
  {
   "cell_type": "code",
   "execution_count": 1,
   "id": "ab2a77f2-b440-44f9-8852-647c611b560d",
   "metadata": {},
   "outputs": [],
   "source": [
    "# Meri Stratergy\n",
    "from abc import ABC,abstractclassmethod"
   ]
  },
  {
   "cell_type": "code",
   "execution_count": 2,
   "id": "fc989bc7-8141-4565-92a4-db0c8f9897f6",
   "metadata": {},
   "outputs": [],
   "source": [
    "class Stratergy(ABC):\n",
    "\n",
    "    @abstractclassmethod\n",
    "    def pay(self,amount):\n",
    "        pass"
   ]
  },
  {
   "cell_type": "code",
   "execution_count": 8,
   "id": "2651848b-8801-405b-9a15-422cb7e1ce57",
   "metadata": {},
   "outputs": [],
   "source": [
    "class Vendor1PaymentStratergy(Stratergy):\n",
    "    def pay(self,amount):\n",
    "        print(f'Paying amount {amount} using Vendor 1')"
   ]
  },
  {
   "cell_type": "code",
   "execution_count": 9,
   "id": "fdb566b1-1d3f-4af1-8f62-44e4cd36bff6",
   "metadata": {},
   "outputs": [],
   "source": [
    "class Vendor2PaymentStratergy(Stratergy):\n",
    "    def pay(self,amount):\n",
    "        print(f'Paying amount {amount} using Vendor 2')"
   ]
  },
  {
   "cell_type": "code",
   "execution_count": 10,
   "id": "3267a802-c79a-4600-81b5-8f8580a7a09a",
   "metadata": {},
   "outputs": [],
   "source": [
    "class Vendor3PaymentStratergy(Stratergy):\n",
    "    def pay(self,amount):\n",
    "        print(f'Paying amount {amount} using Vendor 3')"
   ]
  },
  {
   "cell_type": "code",
   "execution_count": 45,
   "id": "97f92716-39ce-4760-a23e-816e8d966550",
   "metadata": {},
   "outputs": [],
   "source": [
    "class MyApplication:\n",
    "    def __init__(self,stratergy):\n",
    "        self.stratergy=stratergy\n",
    "\n",
    "    @property\n",
    "    def stratergy(self):\n",
    "        print('calling property getter')\n",
    "        return self._stratergy\n",
    "\n",
    "    @stratergy.setter\n",
    "    def stratergy(self,stratergy):\n",
    "        print('calling property setter')\n",
    "        self._stratergy:Stratergy=stratergy\n",
    "\n",
    "    def do_payment(self,amt):\n",
    "        self.stratergy.pay(amt)"
   ]
  },
  {
   "cell_type": "code",
   "execution_count": 42,
   "id": "d45f0f87-2c10-45ac-acf2-705159124094",
   "metadata": {},
   "outputs": [],
   "source": [
    "strat = Vendor3PaymentStratergy()"
   ]
  },
  {
   "cell_type": "code",
   "execution_count": 43,
   "id": "dbd16d75-36de-47a3-bcc1-2ad653c6851c",
   "metadata": {},
   "outputs": [
    {
     "name": "stdout",
     "output_type": "stream",
     "text": [
      "calling property setter\n"
     ]
    }
   ],
   "source": [
    "myapp=MyApplication(strat)"
   ]
  },
  {
   "cell_type": "code",
   "execution_count": 35,
   "id": "77230e09-37bd-429c-9674-21dab60543ea",
   "metadata": {},
   "outputs": [
    {
     "name": "stdout",
     "output_type": "stream",
     "text": [
      "calling property getter\n",
      "Paying amount 30 using Vendor 3\n"
     ]
    }
   ],
   "source": [
    "myapp.do_payment(30)"
   ]
  },
  {
   "cell_type": "code",
   "execution_count": 36,
   "id": "1b070a98-05be-4047-926f-81b5420eaec0",
   "metadata": {},
   "outputs": [
    {
     "name": "stdout",
     "output_type": "stream",
     "text": [
      "calling property setter\n"
     ]
    }
   ],
   "source": [
    "myapp.stratergy=Vendor2PaymentStratergy()"
   ]
  },
  {
   "cell_type": "code",
   "execution_count": 37,
   "id": "a7b15c53-2369-4633-bf38-dbe361ffd745",
   "metadata": {},
   "outputs": [
    {
     "name": "stdout",
     "output_type": "stream",
     "text": [
      "calling property getter\n",
      "Paying amount 32 using Vendor 2\n"
     ]
    }
   ],
   "source": [
    "myapp.do_payment(32)"
   ]
  },
  {
   "cell_type": "code",
   "execution_count": null,
   "id": "dabea2ad-4354-43ba-aa53-1df1024fdfd3",
   "metadata": {},
   "outputs": [],
   "source": []
  },
  {
   "cell_type": "code",
   "execution_count": null,
   "id": "a4f8de8b-6e09-4f58-9eec-ee7259e939c8",
   "metadata": {},
   "outputs": [],
   "source": []
  },
  {
   "cell_type": "code",
   "execution_count": null,
   "id": "1292a6f4-9807-491a-97bf-890d9c6d9992",
   "metadata": {},
   "outputs": [],
   "source": []
  },
  {
   "cell_type": "code",
   "execution_count": null,
   "id": "07352a56-f926-4d6d-989a-93b5374dc43f",
   "metadata": {},
   "outputs": [],
   "source": []
  },
  {
   "cell_type": "code",
   "execution_count": null,
   "id": "40017dae-8c54-4541-a43a-e262d6a89844",
   "metadata": {},
   "outputs": [],
   "source": []
  },
  {
   "cell_type": "code",
   "execution_count": null,
   "id": "332b8597-44c5-4536-80d4-f20743d78565",
   "metadata": {},
   "outputs": [],
   "source": []
  },
  {
   "cell_type": "code",
   "execution_count": null,
   "id": "14a2fb89-64c0-4e8d-a298-aba5b2be2f2e",
   "metadata": {},
   "outputs": [],
   "source": []
  },
  {
   "cell_type": "code",
   "execution_count": null,
   "id": "415bfeb5-e755-440d-b583-1f9a1828235d",
   "metadata": {},
   "outputs": [],
   "source": []
  },
  {
   "cell_type": "code",
   "execution_count": null,
   "id": "991f7cb0-dce9-424c-8b91-0d8879af3776",
   "metadata": {},
   "outputs": [],
   "source": []
  },
  {
   "cell_type": "code",
   "execution_count": null,
   "id": "ccd014e1-6074-4e99-98c3-4784439c1d79",
   "metadata": {},
   "outputs": [],
   "source": []
  },
  {
   "cell_type": "code",
   "execution_count": null,
   "id": "f9d3ce4a-d8c0-4a5d-9a9b-ea6bc9e73f26",
   "metadata": {},
   "outputs": [],
   "source": []
  },
  {
   "cell_type": "code",
   "execution_count": null,
   "id": "37d054a0-8510-4e2f-9950-3c4a378348eb",
   "metadata": {},
   "outputs": [],
   "source": []
  },
  {
   "cell_type": "code",
   "execution_count": null,
   "id": "8d33d621-a4cf-4ef8-aa02-dc662253dc64",
   "metadata": {},
   "outputs": [],
   "source": []
  },
  {
   "cell_type": "code",
   "execution_count": null,
   "id": "520e997f-8df9-47f6-9c43-f054c41405df",
   "metadata": {},
   "outputs": [],
   "source": []
  },
  {
   "cell_type": "code",
   "execution_count": null,
   "id": "ffd84049-5bd2-459d-89c1-550dff8b8eff",
   "metadata": {},
   "outputs": [],
   "source": []
  },
  {
   "cell_type": "code",
   "execution_count": null,
   "id": "0fe76dbe-e563-4737-9e7b-dc4a48b8f98c",
   "metadata": {},
   "outputs": [],
   "source": []
  },
  {
   "cell_type": "code",
   "execution_count": null,
   "id": "e9059a06-32fb-47ce-91cf-cf6c74b136fe",
   "metadata": {},
   "outputs": [],
   "source": []
  }
 ],
 "metadata": {
  "kernelspec": {
   "display_name": "Python 3 (ipykernel)",
   "language": "python",
   "name": "python3"
  },
  "language_info": {
   "codemirror_mode": {
    "name": "ipython",
    "version": 3
   },
   "file_extension": ".py",
   "mimetype": "text/x-python",
   "name": "python",
   "nbconvert_exporter": "python",
   "pygments_lexer": "ipython3",
   "version": "3.10.5"
  }
 },
 "nbformat": 4,
 "nbformat_minor": 5
}
